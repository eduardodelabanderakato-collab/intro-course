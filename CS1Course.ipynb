{
 "cells": [
  {
   "cell_type": "markdown",
   "metadata": {},
   "source": [
    "# Python Course\n",
    "#### By: Ana Luisa, Tomaz, Davi\n",
    "\n",
    "\n",
    "Hey everyone! Welcome to your first programming class.  I am really glad you are here, because we are going to do something really cool, we're going to teach a computer how to understand you.\n",
    "\n",
    "\n",
    "Now, computers don't speak Portuguese or English, they speak there own language. So, today we are going to learn one of the computers language: python. Think of python like talking to a super literal frind, if you say exactly the right words, they will do exactly what you want.\n",
    "\n",
    "\n",
    "In this first activity, you will learn the syntax of python. Syntax is just the grammer of coding, one you get it, you can write programs that actually run!\n"
   ]
  },
  {
   "cell_type": "markdown",
   "metadata": {},
   "source": [
    "---\n",
    "## Syntax 5 \n",
    "Alright, let's get started!\n",
    "\n",
    "\n",
    "The first thing every programer writes is a little line of code to make the computer say \"hello world\".\n",
    "\n",
    "\n",
    "See the code below:\n",
    "print(\"Hello world!\")\n",
    "Lets type this together. The word \"print\" tells the computer to show something on the screen. And the quotation mark shows to the computer that the text is words, so that it wont do math.\n",
    "\n",
    "\n",
    "That it your first program! Nothing fancy yet, but lets try to change it. Try to chaning \"Hello world\" to your name, so thar the computer will say Hi to you. Try it in the code line below.\n"
   ]
  },
  {
   "cell_type": "code",
   "execution_count": 1,
   "metadata": {},
   "outputs": [
    {
     "name": "stdout",
     "output_type": "stream",
     "text": [
      "hello your name\n"
     ]
    }
   ],
   "source": [
    "print(\"hello your name\")"
   ]
  },
  {
   "cell_type": "markdown",
   "metadata": {},
   "source": [
    "Now, code isn’t just about printing text—we can do math too! Lets try to print a math\n",
    "\n",
    "\n",
    "As explained earlier if you print something with the quotation mark it will print a text. See it in the code below\n"
   ]
  },
  {
   "cell_type": "code",
   "execution_count": null,
   "metadata": {},
   "outputs": [],
   "source": [
    "print(\"2 + 5\")"
   ]
  },
  {
   "cell_type": "markdown",
   "metadata": {},
   "source": [
    "See? Python is also your calculator. You can mix math and text.\n",
    "\n",
    "\n",
    "Let’s mix text and math! Your challenge: make Python print 10 + 5 = 15. You can’t just type it as plain text, you have to actually do the math in your code.\\\n",
    "\n",
    "Also, you might have questioned what a # is, programmers leave themselves notes in code with a #. Anything after a # is ignored by Python"
   ]
  },
  {
   "cell_type": "markdown",
   "metadata": {},
   "source": [
    "---\n",
    "#### Challenge 1\n"
   ]
  },
  {
   "cell_type": "code",
   "execution_count": null,
   "metadata": {},
   "outputs": [],
   "source": [
    "print() # Change the parentheses to make Python print 10 + 5 = 15``"
   ]
  },
  {
   "cell_type": "markdown",
   "metadata": {},
   "source": [
    "Okay, let’s make our text look nicer. Right now, every time we want a new line, we write another print(). But there’s a better way: use \\n.\n",
    "\n",
    "\\n is called a newline character. It tells Python: ‘Hey, start a new line here.’\n",
    "\n",
    "Notice the code below\n",
    "\n"
   ]
  },
  {
   "cell_type": "code",
   "execution_count": null,
   "metadata": {},
   "outputs": [],
   "source": [
    "print(\"Hello\\nWorld\")"
   ]
  },
  {
   "cell_type": "markdown",
   "metadata": {},
   "source": [
    "See how we wrote one print() but it printed on two lines? That’s because \\n symbol inside your text that creates a line break.\n",
    "\n",
    "\n",
    "This is super useful when you want to format text neatly without typing print() over and over.\n",
    "\n",
    "\n",
    "Let’s do one more so you will understand\n"
   ]
  },
  {
   "cell_type": "code",
   "execution_count": null,
   "metadata": {},
   "outputs": [],
   "source": [
    "print(\"Line 1\\nLine 2\\nLine 3\")"
   ]
  },
  {
   "cell_type": "markdown",
   "metadata": {},
   "source": [
    "\n",
    "\n",
    "Now, let's do some challenges to see if you really understod this first lesson!\n"
   ]
  },
  {
   "cell_type": "markdown",
   "metadata": {},
   "source": [
    "----\n",
    "#### Challenge 2\n",
    "\n",
    "Print this sentence exactly (watch the quotes!):"
   ]
  },
  {
   "cell_type": "code",
   "execution_count": null,
   "metadata": {},
   "outputs": [],
   "source": [
    "#She said, \"Python is fun!\"\n",
    "\n",
    "print()"
   ]
  },
  {
   "cell_type": "markdown",
   "metadata": {},
   "source": [
    "---\n",
    "#### For your next challenge, print this list using one print() command and \\n:\n",
    "Milk\n",
    "Eggs\n",
    "Bread"
   ]
  },
  {
   "cell_type": "code",
   "execution_count": null,
   "metadata": {},
   "outputs": [],
   "source": []
  },
  {
   "cell_type": "markdown",
   "metadata": {},
   "source": [
    "---\n",
    "### Input and Output\n",
    "In Python, print() is output: the computer shows information to the user.\n",
    "input() is input: it asks the user for something and lets them type it in.\n"
   ]
  },
  {
   "cell_type": "code",
   "execution_count": null,
   "metadata": {},
   "outputs": [],
   "source": [
    "# Simple example of input/output\n",
    "# This is a fake \"input\" just to show the idea\n",
    "\n",
    "\n",
    "print(\"What is your name? Ana\")  # Output asking for input\n",
    "name = \"Ana\"                     # Simulated user input\n",
    "print(f\"Hello, {name}\")          # Output response"
   ]
  },
  {
   "cell_type": "markdown",
   "metadata": {},
   "source": [
    "See how that works? The computer paused, waited for you, and then used what you typed. That’s interactivity!"
   ]
  },
  {
   "cell_type": "markdown",
   "metadata": {},
   "source": [
    "---\n",
    "# Variables\n",
    "A variable is a letter or a word that you assign a value to or a definition.\n",
    "\n",
    "\n",
    "For you to assign a value you will need to write the letter or word that you want to assign a value, and then an equal sign next to it and the value you want to assign.\n",
    "\n",
    "\n",
    "The most common type of variable assigned is the intenger type, which is basically all whole numbers, positive and negative without a decimal point.\n",
    "\n",
    "\n",
    "Example of an integer variable:\n",
    "\n",
    "\n",
    "x=4\n",
    "\n",
    "\n",
    "x would than be equal to 4\n",
    "\n",
    "\n",
    "Variables are very important when coding, since it helps  maintain your code organized and clear\n",
    "\n",
    "\n",
    "This is an example of a variable:\n"
   ]
  },
  {
   "cell_type": "code",
   "execution_count": null,
   "metadata": {},
   "outputs": [],
   "source": [
    "x=5\n",
    "print(x)\n"
   ]
  },
  {
   "cell_type": "markdown",
   "metadata": {},
   "source": [
    "It's also very important for you to always check your spelling when referring to your variables. Since a lowercase y isn't the same as an uppercase Y.\n",
    "\n",
    "\n",
    "As the example below proves:\n"
   ]
  },
  {
   "cell_type": "code",
   "execution_count": null,
   "metadata": {},
   "outputs": [],
   "source": [
    "y=3\n",
    "print(Y)"
   ]
  },
  {
   "cell_type": "markdown",
   "metadata": {},
   "source": [
    "Now try to assign your own variable and print out.\n",
    "\n",
    "\n",
    "Congratulations, you have assigned your first variable!\n",
    "\n",
    "\n",
    "As mentioned before, variables aren't limited by numbers, as they can also be worth words or sentences. Which is called a string\n",
    "\n",
    "\n",
    "For you to assign words or phrases for a variable, you will need to do the same procedure as a regular variable. The only exception being that the words you want to assign needs to be between quotation marks.\n",
    "\n",
    "\n",
    "As the example below shows:\n"
   ]
  },
  {
   "cell_type": "code",
   "execution_count": null,
   "metadata": {},
   "outputs": [],
   "source": [
    "color=\"blue\"\n",
    "print(color)"
   ]
  },
  {
   "cell_type": "markdown",
   "metadata": {},
   "source": [
    "Variables can be also worth decimals, we call this type of variable or decimals in general, floats.\n",
    "\n",
    "\n",
    "For you to assign a float, it's the same process as a regular variable with the exception being decimals.\n",
    "\n",
    "\n",
    "Try to assign a float variable below:\n"
   ]
  },
  {
   "cell_type": "code",
   "execution_count": null,
   "metadata": {},
   "outputs": [],
   "source": []
  },
  {
   "cell_type": "markdown",
   "metadata": {},
   "source": [
    "It's also important to mention that variables can't have spaces between them, since it will stop your code"
   ]
  },
  {
   "cell_type": "code",
   "execution_count": null,
   "metadata": {},
   "outputs": [],
   "source": [
    "my favorite color=\"blue\"\n",
    "print(my favorite color)"
   ]
  },
  {
   "cell_type": "markdown",
   "metadata": {},
   "source": [
    "An alternative for spaces in your variable is to underline where the spaces would be."
   ]
  },
  {
   "cell_type": "code",
   "execution_count": null,
   "metadata": {},
   "outputs": [],
   "source": [
    "my_favorite_color=\"blue\"\n",
    "print(my_favorite_color)"
   ]
  },
  {
   "cell_type": "markdown",
   "metadata": {},
   "source": [
    "In addition to this the value of variable can change during your code\n",
    "\n",
    "\n",
    "As the example below demonstrates it:\n"
   ]
  },
  {
   "cell_type": "code",
   "execution_count": null,
   "metadata": {},
   "outputs": [],
   "source": [
    "x=3\n",
    "x=2\n",
    "print(x)"
   ]
  },
  {
   "cell_type": "markdown",
   "metadata": {},
   "source": [
    "It's important to know that the variable amount used in your code will always be the one closest to the bottom.\n",
    "\n",
    "\n",
    "Also when coding you can use multiple variables at the same time.\n",
    "\n",
    "\n",
    "As the example below highlights it:\n"
   ]
  },
  {
   "cell_type": "code",
   "execution_count": null,
   "metadata": {},
   "outputs": [],
   "source": [
    "x=3\n",
    "y=2\n",
    "print(x)\n",
    "print(y)"
   ]
  },
  {
   "cell_type": "markdown",
   "metadata": {},
   "source": [
    "Variables can also be used in math formulas, such as addition, subtraction, multiplication, division, and many others."
   ]
  },
  {
   "cell_type": "code",
   "execution_count": null,
   "metadata": {},
   "outputs": [],
   "source": [
    "x=10\n",
    "y=5\n",
    "print(x+y)"
   ]
  },
  {
   "cell_type": "markdown",
   "metadata": {},
   "source": [
    "---\n",
    "## Challenge Time😔😎😈\n",
    "\n",
    "Now try to create your own equation using variables."
   ]
  },
  {
   "cell_type": "code",
   "execution_count": null,
   "metadata": {},
   "outputs": [],
   "source": []
  },
  {
   "cell_type": "markdown",
   "metadata": {},
   "source": [
    "Now try to create an equation with 5 variables with the sum being 30"
   ]
  },
  {
   "cell_type": "code",
   "execution_count": null,
   "metadata": {},
   "outputs": [],
   "source": []
  },
  {
   "cell_type": "markdown",
   "metadata": {},
   "source": [
    "If that was too easy, try to write a story of two friends talking"
   ]
  },
  {
   "cell_type": "code",
   "execution_count": null,
   "metadata": {},
   "outputs": [],
   "source": []
  },
  {
   "cell_type": "markdown",
   "metadata": {},
   "source": [
    "Next, using 3 variables write an equation with the sum being 6.767"
   ]
  },
  {
   "cell_type": "code",
   "execution_count": null,
   "metadata": {},
   "outputs": [],
   "source": []
  },
  {
   "cell_type": "markdown",
   "metadata": {},
   "source": [
    "If you were able to do that, now try to get the first 10 numbers of the fibonacci sequence using variables."
   ]
  },
  {
   "cell_type": "code",
   "execution_count": null,
   "metadata": {},
   "outputs": [],
   "source": []
  },
  {
   "cell_type": "markdown",
   "metadata": {},
   "source": [
    "---\n",
    "# Control Structures\n",
    "\n",
    "Now you will learn about control structures in python and how you can use them to automate tasks.\n",
    "\n",
    "There are two types of control structures in python: Loops and Conditionals."
   ]
  },
  {
   "cell_type": "markdown",
   "metadata": {},
   "source": [
    "---\n",
    "# Conditionals 👽\n",
    "\n",
    "🧠 So, what are conditionals?\n",
    "\n",
    "Conditionals are one of the most important concepts in python, and programming in general as they allow the program to make a necessary choice. Without conditionals programming would basically be useless.\n",
    "\n",
    "Conditionals are like the decision makers in your code. They allow your program to perform different tasks depending on if the condition returns true or false.\n",
    "\n",
    "An example of this in regular English: \n",
    "\n",
    "\"If you are 18 or older you are an adult\"\n",
    "\n",
    "In python we use \"if\", \"elif\" and \"else\" conditionals so that the program can make the choices.\n",
    "\n",
    "#### Run the code below to see how a simple if statement works in python"
   ]
  },
  {
   "cell_type": "code",
   "execution_count": 4,
   "metadata": {},
   "outputs": [],
   "source": [
    "age = 15\n",
    "\n",
    "if age >= 18:\n",
    "    print(\"You are an adult\")"
   ]
  },
  {
   "cell_type": "markdown",
   "metadata": {},
   "source": [
    "This is an extremely simple conditional structure in python. Depending on the age the program will return a line of code that prints out the sentence: \"you are an adult\". As seen nothing was printed out because the age is 15.\n",
    "\n",
    "Try and change the value of the age to something over 18 and see what happens. As expected, because the age is either the same or bigger than 18 the program returned the line of code inside the if conditional.\n",
    "\n",
    "---\n",
    "\n",
    "## Explaining the conditional\n",
    "\n",
    "- if - the keyword that starts the conditional\n",
    "\n",
    "- age - a variable that holds an integer\n",
    "\n",
    "- \">=\" - a comparison operator that means \"greater than or equal to\"\n",
    "\n",
    "- 18 - the value we are comparing to - the minimal age to be considered an adult\n",
    "\n",
    "- : - marks the start of the code block\n",
    "\n",
    "- if age >= 18: - the full line that means \"if the age is 18 or more, run the code inside the conditional\"\n",
    "\n",
    "\n",
    "As you may have noticed the print() line is indented as python is an indentation sensitive program. That means that for the program to run as expected the indentation of each line of code has to be correct. When creating conditionals you have to add an indentation to everything inside that conditional so that the code can run."
   ]
  },
  {
   "cell_type": "markdown",
   "metadata": {},
   "source": [
    "---\n",
    "\n",
    "## Explaining \"else\"\n",
    "\n",
    "Now I will expand this conditional by using an \"else\" statement\n",
    "\n",
    "Below is an example of this in regular English:\n",
    "\n",
    "\"if you are 18 or older you are an adult, else you are a minor\"\n",
    "\n",
    "#### Run the code below to see what happens:"
   ]
  },
  {
   "cell_type": "code",
   "execution_count": 15,
   "metadata": {},
   "outputs": [
    {
     "name": "stdout",
     "output_type": "stream",
     "text": [
      "You are an adult\n"
     ]
    }
   ],
   "source": [
    "age = 20\n",
    "\n",
    "if age >= 18:\n",
    "    print(\"You are an adult\")\n",
    "else:\n",
    "    print(\"You are a minor\")"
   ]
  },
  {
   "cell_type": "markdown",
   "metadata": {},
   "source": [
    "Because an \"else\" statement was added after the \"if\", now if the age is less than 18 the program will print the line \"You are a minor\"\n",
    "\n",
    "Try and change the age to something below 18 and see how the program responds! As expected it printed out the line inside the else conditional.\n",
    "\n",
    "An \"else\" statement can only be added if there is already and \"if\" in the program. The \"else\" condition only runs if the \"if\" condition returns false, meaning that you cannot use comparison operators or add new conditions to the \"else\". It's like saying \"if the first condition failed, do this instead\""
   ]
  },
  {
   "cell_type": "markdown",
   "metadata": {},
   "source": [
    "---\n",
    "## Explaining \"elif\"\n",
    "\n",
    "If you need to check multiple conditions that are related to the first \"if\", then you can use \"elif\", which basically means else if.\n",
    "\n",
    "Let's look at an example that's easier to understand in regular English:\n",
    "\n",
    "\"If your grade is greater than or equal to 90, you get an A.\n",
    "Else if it’s greater than or equal to 80, you get a B.\n",
    "Else if it’s greater than or equal to 70, you get a C.\n",
    "Else, you get an F.\"\n",
    "\n",
    "#### Run the code below to understand how it works in python:"
   ]
  },
  {
   "cell_type": "code",
   "execution_count": null,
   "metadata": {},
   "outputs": [
    {
     "name": "stdout",
     "output_type": "stream",
     "text": [
      "A\n"
     ]
    }
   ],
   "source": [
    "grade = 90\n",
    "\n",
    "if grade >= 90:\n",
    "    print(\"A\")\n",
    "elif grade >= 80:\n",
    "    print(\"B\")\n",
    "elif grade >= 70:\n",
    "    print(\"C\")\n",
    "else:\n",
    "    print(\"F\")"
   ]
  },
  {
   "cell_type": "markdown",
   "metadata": {},
   "source": [
    "As seen above by using an \"elif\" you can have multiple outcomes based on the same \"if\" statement.\n",
    "\n",
    "Try and change the grade to something below 90 and see what happens! As expected the grade returned by the program was different.\n",
    "\n",
    "Each \"elif\" has a different condition just like the \"if\" statements. Python checks these conditions in order and the first one to return true will run. The rest of the conditions will then be skipped. If no \"if\" and \"elif\" returns true then the program will run the \"else\" condition."
   ]
  },
  {
   "cell_type": "markdown",
   "metadata": {},
   "source": [
    "---\n",
    "## Challenges!\n",
    "### Now the fun part begins! Apply everything you learned and try to solve these challenges\n"
   ]
  },
  {
   "cell_type": "markdown",
   "metadata": {},
   "source": [
    "---\n",
    "## Challenge 1 (Easy 😄)\n",
    "\n",
    "For the first challenge:\n",
    "\n",
    "Create two variables. Depending on the value of the variables print out if number 1 is greater than two, if number two is greater than number one or if both numbers are equal.\n"
   ]
  },
  {
   "cell_type": "markdown",
   "metadata": {},
   "source": [
    "#### Write the code below:"
   ]
  },
  {
   "cell_type": "code",
   "execution_count": null,
   "metadata": {},
   "outputs": [],
   "source": [
    "#Starter Code\n",
    "#Change the numbers for different outcomes!\n",
    "\n",
    "num1 =\n",
    "num2 ="
   ]
  },
  {
   "cell_type": "markdown",
   "metadata": {},
   "source": [
    "---\n",
    "## Challenge 2 (Intermediate 🧐)\n",
    "\n",
    "For the second challenge:\n",
    "\n",
    "Create a variable for the temperature outside. Depending on if the temperature is between a limit eg(28-30) make the program print out if its cold, hot, chilly etc. Create at least 4 ranges of temperatures, each with a different response from the program."
   ]
  },
  {
   "cell_type": "markdown",
   "metadata": {},
   "source": [
    "#### Write the code below:"
   ]
  },
  {
   "cell_type": "code",
   "execution_count": null,
   "metadata": {},
   "outputs": [],
   "source": [
    "#Starter Code\n",
    "#Change the temperature for different outcomes!\n",
    "\n",
    "temperature = "
   ]
  },
  {
   "cell_type": "markdown",
   "metadata": {},
   "source": [
    "---\n",
    "## Challenge 3 (Hard 🤓🫣☠️)\n",
    "\n",
    "For the third challenge:\n",
    "\n",
    "You are working at an amusement park. Create a program where if the person is a child they can enter for free, if they are a teenager they pay less and if they are an adult they have to pay full price. Aditionally the guests can have VIP passes, and if they do the program has to let them in for free."
   ]
  },
  {
   "cell_type": "markdown",
   "metadata": {},
   "source": [
    "#### Write the code below:"
   ]
  },
  {
   "cell_type": "code",
   "execution_count": null,
   "metadata": {},
   "outputs": [],
   "source": [
    "#Starter Code\n",
    "#Change the age and if the guest has a vip pass for different outcomes!\n",
    "\n",
    "age =\n",
    "vip_pass = "
   ]
  },
  {
   "cell_type": "markdown",
   "metadata": {},
   "source": [
    "---\n",
    "# Loops 🔄\n",
    "\n",
    "😈 What are loops?\n",
    "\n",
    "Loops allow you to repeat the same code multiple times without having to write the same code over, and over, and over. This automates your program and makes it way more efficient. Loops are one of the most important staples in programing so pay attention! 👨🏻‍🏫\n",
    "\n",
    "🤨 Why do we use Loops?\n",
    "\n",
    "Let's say you want to print multiple numbers. Instead of using many print() lines to print every single number a loop changes the value of that number (called an iteratation) and repeats your code using that variable. This way with less lines of code you can print multiple numbers.\n",
    "\n",
    "In python we have three types of loops: \"For\", \"While\" and \"While True\"\n",
    "\n",
    "#### Run the code below to see how a \"for\" loop works!:"
   ]
  },
  {
   "cell_type": "code",
   "execution_count": 25,
   "metadata": {},
   "outputs": [
    {
     "ename": "KeyboardInterrupt",
     "evalue": "",
     "output_type": "error",
     "traceback": [
      "\u001b[31m---------------------------------------------------------------------------\u001b[39m",
      "\u001b[31mKeyboardInterrupt\u001b[39m                         Traceback (most recent call last)",
      "\u001b[36mCell\u001b[39m\u001b[36m \u001b[39m\u001b[32mIn[25]\u001b[39m\u001b[32m, line 1\u001b[39m\n\u001b[32m----> \u001b[39m\u001b[32m1\u001b[39m number = \u001b[32;43m0\u001b[39;49m\n\u001b[32m      3\u001b[39m \u001b[38;5;28;01mfor\u001b[39;00m number \u001b[38;5;129;01min\u001b[39;00m \u001b[38;5;28mrange\u001b[39m(\u001b[32m0\u001b[39m,\u001b[32m6\u001b[39m):\n\u001b[32m      4\u001b[39m     \u001b[38;5;28mprint\u001b[39m(number)\n",
      "\u001b[36mFile \u001b[39m\u001b[32m<stringsource>:69\u001b[39m, in \u001b[36mcfunc.to_py.__Pyx_CFunc_b0409f__29_pydevd_sys_monitoring_cython_object__lParen__etc_to_py_4code_4line.wrap\u001b[39m\u001b[34m()\u001b[39m\n",
      "\u001b[36mFile \u001b[39m\u001b[32m_pydevd_sys_monitoring\\\\_pydevd_sys_monitoring_cython.pyx:1481\u001b[39m, in \u001b[36m_pydevd_sys_monitoring_cython._line_event\u001b[39m\u001b[34m()\u001b[39m\n",
      "\u001b[36mFile \u001b[39m\u001b[32m_pydevd_sys_monitoring\\\\_pydevd_sys_monitoring_cython.pyx:1523\u001b[39m, in \u001b[36m_pydevd_sys_monitoring_cython._internal_line_event\u001b[39m\u001b[34m()\u001b[39m\n",
      "\u001b[36mFile \u001b[39m\u001b[32m_pydevd_sys_monitoring\\\\_pydevd_sys_monitoring_cython.pyx:1324\u001b[39m, in \u001b[36m_pydevd_sys_monitoring_cython._stop_on_breakpoint\u001b[39m\u001b[34m()\u001b[39m\n",
      "\u001b[36mFile \u001b[39m\u001b[32m_pydevd_sys_monitoring\\\\_pydevd_sys_monitoring_cython.pyx:1961\u001b[39m, in \u001b[36m_pydevd_sys_monitoring_cython._do_wait_suspend\u001b[39m\u001b[34m()\u001b[39m\n",
      "\u001b[36mFile \u001b[39m\u001b[32m~/Library/Python/3.12/lib/python/site-packages/debugpy/_vendored/pydevd/pydevd.py:2188\u001b[39m, in \u001b[36mPyDB.do_wait_suspend\u001b[39m\u001b[34m(self, thread, frame, event, arg, exception_type)\u001b[39m\n\u001b[32m   2185\u001b[39m             from_this_thread.append(frame_custom_thread_id)\n\u001b[32m   2187\u001b[39m     \u001b[38;5;28;01mwith\u001b[39;00m \u001b[38;5;28mself\u001b[39m._threads_suspended_single_notification.notify_thread_suspended(thread_id, thread, stop_reason):\n\u001b[32m-> \u001b[39m\u001b[32m2188\u001b[39m         keep_suspended = \u001b[38;5;28;43mself\u001b[39;49m\u001b[43m.\u001b[49m\u001b[43m_do_wait_suspend\u001b[49m\u001b[43m(\u001b[49m\u001b[43mthread\u001b[49m\u001b[43m,\u001b[49m\u001b[43m \u001b[49m\u001b[43mframe\u001b[49m\u001b[43m,\u001b[49m\u001b[43m \u001b[49m\u001b[43mevent\u001b[49m\u001b[43m,\u001b[49m\u001b[43m \u001b[49m\u001b[43marg\u001b[49m\u001b[43m,\u001b[49m\u001b[43m \u001b[49m\u001b[43mtrace_suspend_type\u001b[49m\u001b[43m,\u001b[49m\u001b[43m \u001b[49m\u001b[43mfrom_this_thread\u001b[49m\u001b[43m,\u001b[49m\u001b[43m \u001b[49m\u001b[43mframes_tracker\u001b[49m\u001b[43m)\u001b[49m\n\u001b[32m   2190\u001b[39m frames_list = \u001b[38;5;28;01mNone\u001b[39;00m\n\u001b[32m   2192\u001b[39m \u001b[38;5;28;01mif\u001b[39;00m keep_suspended:\n\u001b[32m   2193\u001b[39m     \u001b[38;5;66;03m# This means that we should pause again after a set next statement.\u001b[39;00m\n",
      "\u001b[36mFile \u001b[39m\u001b[32m~/Library/Python/3.12/lib/python/site-packages/debugpy/_vendored/pydevd/pydevd.py:2257\u001b[39m, in \u001b[36mPyDB._do_wait_suspend\u001b[39m\u001b[34m(self, thread, frame, event, arg, trace_suspend_type, from_this_thread, frames_tracker)\u001b[39m\n\u001b[32m   2254\u001b[39m                 queue.put(internal_cmd)\n\u001b[32m   2255\u001b[39m                 wait_timeout = TIMEOUT_FAST\n\u001b[32m-> \u001b[39m\u001b[32m2257\u001b[39m         \u001b[43mnotify_event\u001b[49m\u001b[43m.\u001b[49m\u001b[43mwait\u001b[49m\u001b[43m(\u001b[49m\u001b[43mwait_timeout\u001b[49m\u001b[43m)\u001b[49m\n\u001b[32m   2258\u001b[39m         notify_event.clear()\n\u001b[32m   2260\u001b[39m \u001b[38;5;28;01mfinally\u001b[39;00m:\n",
      "\u001b[36mFile \u001b[39m\u001b[32m/Library/Frameworks/Python.framework/Versions/3.12/lib/python3.12/threading.py:655\u001b[39m, in \u001b[36mEvent.wait\u001b[39m\u001b[34m(self, timeout)\u001b[39m\n\u001b[32m    653\u001b[39m signaled = \u001b[38;5;28mself\u001b[39m._flag\n\u001b[32m    654\u001b[39m \u001b[38;5;28;01mif\u001b[39;00m \u001b[38;5;129;01mnot\u001b[39;00m signaled:\n\u001b[32m--> \u001b[39m\u001b[32m655\u001b[39m     signaled = \u001b[38;5;28;43mself\u001b[39;49m\u001b[43m.\u001b[49m\u001b[43m_cond\u001b[49m\u001b[43m.\u001b[49m\u001b[43mwait\u001b[49m\u001b[43m(\u001b[49m\u001b[43mtimeout\u001b[49m\u001b[43m)\u001b[49m\n\u001b[32m    656\u001b[39m \u001b[38;5;28;01mreturn\u001b[39;00m signaled\n",
      "\u001b[36mFile \u001b[39m\u001b[32m/Library/Frameworks/Python.framework/Versions/3.12/lib/python3.12/threading.py:359\u001b[39m, in \u001b[36mCondition.wait\u001b[39m\u001b[34m(self, timeout)\u001b[39m\n\u001b[32m    357\u001b[39m \u001b[38;5;28;01melse\u001b[39;00m:\n\u001b[32m    358\u001b[39m     \u001b[38;5;28;01mif\u001b[39;00m timeout > \u001b[32m0\u001b[39m:\n\u001b[32m--> \u001b[39m\u001b[32m359\u001b[39m         gotit = \u001b[43mwaiter\u001b[49m\u001b[43m.\u001b[49m\u001b[43macquire\u001b[49m\u001b[43m(\u001b[49m\u001b[38;5;28;43;01mTrue\u001b[39;49;00m\u001b[43m,\u001b[49m\u001b[43m \u001b[49m\u001b[43mtimeout\u001b[49m\u001b[43m)\u001b[49m\n\u001b[32m    360\u001b[39m     \u001b[38;5;28;01melse\u001b[39;00m:\n\u001b[32m    361\u001b[39m         gotit = waiter.acquire(\u001b[38;5;28;01mFalse\u001b[39;00m)\n",
      "\u001b[31mKeyboardInterrupt\u001b[39m: "
     ]
    }
   ],
   "source": [
    "number = 0\n",
    "\n",
    "for number in range(0,6):\n",
    "    print(number)"
   ]
  },
  {
   "cell_type": "markdown",
   "metadata": {},
   "source": [
    "I created an integer variable named number and assigned it the value 0. Then, I wrote a for loop that runs while number is between 0 and 6. Inside the loop, the program prints the current value of number. After printing, it iterates to the next integer inside range. This process repeats until the number before 6, at which point the loop stops."
   ]
  },
  {
   "cell_type": "markdown",
   "metadata": {},
   "source": [
    "---\n",
    "## Explaining the \"for\" loop\n",
    "\n",
    "\n",
    "- for - the keyword that starts the loop\n",
    "\n",
    "- number - a variable that holds the current integer value during each iteration.\n",
    "\n",
    "- in - specifies that the variable takes values from the following sequence.\n",
    "\n",
    "- range() - defines the sequence of numbers the loop variable will go through (the range of values the variable can take for the loop to run. The range operator takes in three values: start, stop and step).\n",
    "- - start - where the sequence begins\n",
    "- - stop - the loops stops before this number\n",
    "- - step - how much to increase the number in each loop\n",
    "\n",
    "- : - marks the start of the code block that belongs to the loop\n",
    "\n",
    "Just like in conditionals everything that runs inside a \"for\" loop needs to be indented because python is an indentation sensitive program."
   ]
  },
  {
   "cell_type": "markdown",
   "metadata": {},
   "source": [
    "---\n",
    "## Expanding \"for\" loop knowledge\n",
    "\n",
    "The for loop can also iterate through characters in a string, dictionaries and lists(Well talk about these later).\n",
    "\n",
    "For example if you have a variable named word that is a string (\"Python\"), you can iterate and print each individual character of the string.\n",
    "\n",
    "#### Run the code below to see how it works!"
   ]
  },
  {
   "cell_type": "code",
   "execution_count": 9,
   "metadata": {},
   "outputs": [
    {
     "name": "stdout",
     "output_type": "stream",
     "text": [
      "apple\n",
      "banana\n",
      "cherry\n"
     ]
    },
    {
     "name": "stdout",
     "output_type": "stream",
     "text": [
      "P\n",
      "y\n",
      "t\n",
      "h\n",
      "o\n",
      "n\n"
     ]
    }
   ],
   "source": [
    "word = \"Python\"\n",
    "\n",
    "for char in word:\n",
    "    print(char)"
   ]
  },
  {
   "cell_type": "markdown",
   "metadata": {},
   "source": [
    "---\n",
    "## MORE CHALLENGES! 🌚\n",
    "\n",
    "#### Apply what you learned about \"for\" loops above to be able to complete these challenges"
   ]
  },
  {
   "cell_type": "markdown",
   "metadata": {},
   "source": [
    "---\n",
    "## Challenge 1 (Easy 😁)\n",
    "\n",
    "For the first challenge:\n",
    "\n",
    "Use the for loop to print numbers 0 to 10\n",
    "\n",
    "#### Write the code below:"
   ]
  },
  {
   "cell_type": "code",
   "execution_count": null,
   "metadata": {},
   "outputs": [],
   "source": []
  },
  {
   "cell_type": "markdown",
   "metadata": {},
   "source": [
    "---\n",
    "## Challenge 2 (Intermediate 🙃)\n",
    "\n",
    "For the second challenge:\n",
    "\n",
    "Use a \"for\" loop to print all even numbers from 2 to 20\n",
    "\n",
    "#### Write the code below:"
   ]
  },
  {
   "cell_type": "code",
   "execution_count": null,
   "metadata": {},
   "outputs": [],
   "source": []
  },
  {
   "cell_type": "markdown",
   "metadata": {},
   "source": [
    "---\n",
    "## Challenge 3 (Hard 😈🤡)\n",
    "\n",
    "For the third challenge:\n",
    "\n",
    "Assign a value to a num variable. Then use a \"for\" loop to check if its prime and print a message saying whether it is or not.\n",
    "\n",
    "#### Write the code below:"
   ]
  },
  {
   "cell_type": "code",
   "execution_count": null,
   "metadata": {},
   "outputs": [],
   "source": []
  },
  {
   "cell_type": "markdown",
   "metadata": {},
   "source": [
    "---\n",
    "## Challenge 4 (IMPOSSIBLE 💀🌚👹)\n",
    "\n",
    "For the fourth challenge:\n",
    "\n",
    "Print the numbers from 1 to 50, but with a twist:\n",
    "\n",
    "- If the number is divisible by 3, print \"Fizz\"\n",
    "\n",
    "- If the number is divisible by 5, print \"Buzz\"\n",
    "\n",
    "- If divisible by both, print \"FizzBuzz\"\n",
    "\n",
    "- Otherwise, print the number\n",
    "\n",
    "#### Write the code below:"
   ]
  },
  {
   "cell_type": "code",
   "execution_count": null,
   "metadata": {},
   "outputs": [
    {
     "name": "stdout",
     "output_type": "stream",
     "text": [
      "1\n",
      "2\n",
      "Fizz\n",
      "4\n",
      "Buzz\n",
      "Fizz\n",
      "7\n",
      "8\n",
      "Fizz\n",
      "Buzz\n",
      "11\n",
      "Fizz\n",
      "13\n",
      "14\n",
      "FizzBuzz\n",
      "16\n",
      "17\n",
      "Fizz\n",
      "19\n",
      "Buzz\n",
      "Fizz\n",
      "22\n",
      "23\n",
      "Fizz\n",
      "Buzz\n",
      "26\n",
      "Fizz\n",
      "28\n",
      "29\n",
      "FizzBuzz\n",
      "31\n",
      "32\n",
      "Fizz\n",
      "34\n",
      "Buzz\n",
      "Fizz\n",
      "37\n",
      "38\n",
      "Fizz\n",
      "Buzz\n",
      "41\n",
      "Fizz\n",
      "43\n",
      "44\n",
      "FizzBuzz\n",
      "46\n",
      "47\n",
      "Fizz\n",
      "49\n",
      "Buzz\n"
     ]
    }
   ],
   "source": []
  },
  {
   "cell_type": "markdown",
   "metadata": {},
   "source": [
    "---\n",
    "# Lists\n",
    "\n",
    "Now you will learn all about lists in python:\n",
    "- What they are\n",
    "\n",
    "- How to make them\n",
    "\n",
    "- How to add items to a list\n",
    "\n",
    "- How to remove items from a list\n",
    "\n",
    "- How to print the length of the list\n",
    "\n",
    "- How to access a specific item in a list\n",
    "\n",
    "- How to iterate through lists"
   ]
  },
  {
   "cell_type": "markdown",
   "metadata": {},
   "source": [
    "---\n",
    "### What is a list?\n",
    "\n",
    "A list is a data structure in python that holds multiple items in a single variable. Lists are ordered meaning that each item is a number in the list. It starts from 0, so the first item will alway be 0 when wanting to access it. \n",
    "\n",
    "You can think of a list as a shopping list or a train(the variable) that has multiple wagons(ordered) holding items(integres, floats, strings). Even though lists can have different variable types, each \"wagon\" can only hold one variable type.\n",
    "\n",
    "#### Below are three lists with different variable types in regular english:\n",
    "\n",
    "- Shopping List: Apples, Bananas, Oranges, Strawberries\n",
    "\n",
    "- Number List: 1, 2, 3, 4, 5\n",
    "\n",
    "- Random List: Orange, 3, True\n",
    "\n",
    "#### In Python this would look like this:"
   ]
  },
  {
   "cell_type": "code",
   "execution_count": null,
   "metadata": {},
   "outputs": [],
   "source": [
    "#String List\n",
    "shopping_list = [\"apples\", \"bananas\", \"oranges\", \"strawberries\"]\n",
    "\n",
    "#Integer List\n",
    "numbers_list = [1, 2, 3, 4, 5]\n",
    "\n",
    "#Mixed List\n",
    "random_list = [\"orange\", 3, True]\n"
   ]
  },
  {
   "cell_type": "markdown",
   "metadata": {},
   "source": [
    "#### As seen above to create a list you need:\n",
    "\n",
    "- list – a variable name to store the list\n",
    "\n",
    "- = – the assignment operator (used to assign the list to the variable)\n",
    "\n",
    "- [] – square brackets that contain the items in the list\n",
    "\n",
    "- , – commas that separate each item inside the list\n",
    "\n",
    "- Items – the actual values in the list (e.g., 1, \"orange\", 3, True - (However you can make an empty list)\n"
   ]
  },
  {
   "cell_type": "markdown",
   "metadata": {},
   "source": [
    "---\n",
    "### Now that you know how to create a list, let's dive deeper into what you can do to it!\n",
    "\n",
    "There are many things that you can do to a list such as adding items to it, removing items from it, getting specific items from the list, changing specific items in the list, finding the length of the list and iterating through it using \"for\" loops.\n",
    "\n",
    "#### First, let's create an empty list:"
   ]
  },
  {
   "cell_type": "code",
   "execution_count": null,
   "metadata": {},
   "outputs": [],
   "source": [
    "my_list = []"
   ]
  },
  {
   "cell_type": "markdown",
   "metadata": {},
   "source": [
    "As seen above, the list I created is empty, meaning that there are no items inside of it; however, we can add items to it.\n",
    "\n",
    "#### Run the code below to see how that works:"
   ]
  },
  {
   "cell_type": "code",
   "execution_count": null,
   "metadata": {},
   "outputs": [],
   "source": [
    "my_list = []\n",
    "my_list.append(\"apple\")\n",
    "my_list.append(\"banana\")\n",
    "my_list.append(\"orange\")\n",
    "\n",
    "print(my_list)"
   ]
  },
  {
   "cell_type": "markdown",
   "metadata": {},
   "source": [
    "To add an item to a list we use .append\n",
    "\n",
    "The syntax for adding an item to a list is list.appen(new_item)\n",
    "\n",
    "What if we want to remove an item instead of adding one?\n",
    "\n",
    "We can also do that!\n",
    "\n",
    "#### Run the code below to see how that works:"
   ]
  },
  {
   "cell_type": "code",
   "execution_count": null,
   "metadata": {},
   "outputs": [
    {
     "name": "stdout",
     "output_type": "stream",
     "text": [
      "['apple', 'orange']\n"
     ]
    }
   ],
   "source": [
    "my_list = [\"apple\", \"banana\", \"orange\"]\n",
    "my_list.remove(\"banana\")\n",
    "\n",
    "print(my_list)"
   ]
  },
  {
   "cell_type": "markdown",
   "metadata": {},
   "source": [
    "To remove an item from a list we use .remove\n",
    "\n",
    "The syntax for remiving an item from a list is list.remove(item) - (remember that the item you are removing from the list must already be in it)"
   ]
  },
  {
   "cell_type": "markdown",
   "metadata": {},
   "source": [
    "---\n",
    "### Accessing specific items in a list\n",
    "\n",
    "To access specifc items in a list we can use indexes [0], [1], [2], etc.\n",
    "\n",
    "Keep in mind that python lists are zero-indexed meaning that the first item in the list will have index 0, the second will have 1 and so on.\n",
    "\n",
    "#### For example if we want to print specific items in a list:"
   ]
  },
  {
   "cell_type": "code",
   "execution_count": null,
   "metadata": {},
   "outputs": [
    {
     "name": "stdout",
     "output_type": "stream",
     "text": [
      "0\n",
      "4\n"
     ]
    }
   ],
   "source": [
    "my_list = [0, 2, 4, 6, 8, 10]\n",
    "\n",
    "print(my_list[0])\n",
    "print(my_list[2])\n"
   ]
  },
  {
   "cell_type": "markdown",
   "metadata": {},
   "source": [
    "We can also use negative indexes([-1], [-2], etc) when accessing items in a list. By using negative indexes we access the list backwards. -1 would be the last item, -2 would be the penultimate and so on.\n",
    "\n",
    "#### Run the code below to see how it works:"
   ]
  },
  {
   "cell_type": "code",
   "execution_count": null,
   "metadata": {},
   "outputs": [],
   "source": [
    "my_list = [0, 2, 4, 6, 8, 10]\n",
    "\n",
    "print(my_list[-1])\n",
    "print(my_list[-3])"
   ]
  },
  {
   "cell_type": "markdown",
   "metadata": {},
   "source": [
    "By accessing specific items using indexes we can also change them.\n",
    "\n",
    "#### Run the code below to see how it works:"
   ]
  },
  {
   "cell_type": "code",
   "execution_count": null,
   "metadata": {},
   "outputs": [],
   "source": [
    "my_list = [0, 2, 4, 6, 8, 10]\n",
    "print(my_list)\n",
    "\n",
    "my_list[2] = 5\n",
    "print(my_list)"
   ]
  },
  {
   "cell_type": "markdown",
   "metadata": {},
   "source": [
    "---\n",
    "## Finding the length of a list\n",
    "\n",
    "Additionally, we can also find the length of a list by using the built in len() function.\n",
    "\n",
    "#### The code below explains how it works:"
   ]
  },
  {
   "cell_type": "code",
   "execution_count": null,
   "metadata": {},
   "outputs": [],
   "source": [
    "my_list = [\"apple\", \"banana\", \"cherry\"]\n",
    "print(len(my_list))"
   ]
  },
  {
   "cell_type": "markdown",
   "metadata": {},
   "source": [
    "The built in len() function stands for length, and it counts how many items are inside of the list. Different to the indexes the len() function starts counting from 1 and not 0."
   ]
  },
  {
   "cell_type": "markdown",
   "metadata": {},
   "source": [
    "---\n",
    "## Iterating through lists\n",
    "\n",
    "Iterating through lists means that the program goes through a list so that it can do something with each item. Either printing, changing, etc.\n",
    "\n",
    "For example if you wanted to print each item in you shopping list. You would use a \"for\" loop to iterate through each item in the list and print each item. This way, as already explained in the loop section, you won't have to repeat lines of code, keeping your program more efficient and cleaner.\n",
    "\n",
    "#### Below is an example of iterating through a loop:"
   ]
  },
  {
   "cell_type": "code",
   "execution_count": null,
   "metadata": {},
   "outputs": [
    {
     "name": "stdout",
     "output_type": "stream",
     "text": [
      "apple\n",
      "banana\n",
      "cherry\n"
     ]
    }
   ],
   "source": [
    "fruit_list = [\"apple\", \"banana\", \"cherry\"]\n",
    "\n",
    "for fruit in fruit_list:\n",
    "    print(fruit)"
   ]
  },
  {
   "cell_type": "markdown",
   "metadata": {},
   "source": [
    "#### How does the program above work?\n",
    "\n",
    "for fruit in fruit_list basically means:\n",
    "\n",
    "For each fruit inside the fruit list run the code below. In the program above it was about printing the item in the list; however, there is much more that can be done when iterating through loops. For example, modifying items, filtering items, doing math, etc."
   ]
  },
  {
   "cell_type": "markdown",
   "metadata": {},
   "source": [
    "---\n",
    "## EVEN MORE CHALLENGES! 🤣\n",
    "\n",
    "#### Apply what you learned about lists and how to iterate through them to complete these challenges."
   ]
  },
  {
   "cell_type": "markdown",
   "metadata": {},
   "source": [
    "---\n",
    "## Challenge 1 (Easy 😊)\n",
    "\n",
    "For the first challenge:\n",
    "\n",
    "Create a list of 4 of your favorite foods and use a \"for\" loop to print each item in the list\n",
    "\n",
    "#### Write the code below:"
   ]
  },
  {
   "cell_type": "code",
   "execution_count": null,
   "metadata": {},
   "outputs": [],
   "source": []
  },
  {
   "cell_type": "markdown",
   "metadata": {},
   "source": [
    "---\n",
    "## Challenge 2 (Intermediate 🫥)\n",
    "\n",
    "For the first challenge:\n",
    "\n",
    "Create a list of 5 favorite video games. Then use indexing to change the second item in your list to \"Minecraft\"\n",
    "\n",
    "#### Write the code below:"
   ]
  },
  {
   "cell_type": "code",
   "execution_count": null,
   "metadata": {},
   "outputs": [],
   "source": []
  },
  {
   "cell_type": "markdown",
   "metadata": {},
   "source": [
    "---\n",
    "## Challenge 3 (Hard 👹)\n",
    "\n",
    "For the third challenge:\n",
    "\n",
    "Create a list of 6 random items (like toys, animals, foods, etc). Use range() and len() to print every second item in the list (index 0, 2, 4...).\n",
    "\n",
    "#### Write the code below:"
   ]
  },
  {
   "cell_type": "code",
   "execution_count": null,
   "metadata": {},
   "outputs": [],
   "source": []
  },
  {
   "cell_type": "markdown",
   "metadata": {},
   "source": [
    "---\n",
    "## Challenge 4 (IMPOSSIBLE ☠️)\n",
    "\n",
    "For the fourth challenge:\n",
    "\n",
    "Create a list of at least 5 items. Use the \"for\" loop to print the list in reverse order (from the last item to the first)\n",
    "\n",
    "#### Write the code below:"
   ]
  },
  {
   "cell_type": "code",
   "execution_count": null,
   "metadata": {},
   "outputs": [],
   "source": []
  },
  {
   "cell_type": "markdown",
   "metadata": {},
   "source": [
    "---\n",
    "# Dictionaries\n",
    "\n",
    "\n",
    "Dictionaries are the storage of data, similar to a variable but different at the same time. Think of it as a variable that stores other variables, letting you access them in a clear and efficient way.\n",
    "\n",
    "\n",
    "As the example below demonstrates:\n"
   ]
  },
  {
   "cell_type": "code",
   "execution_count": null,
   "metadata": {},
   "outputs": [],
   "source": []
  },
  {
   "cell_type": "markdown",
   "metadata": {},
   "source": [
    "How to create a dictionary:\n",
    "\n",
    "\n",
    "1) First create one, choose a name for your dictionary and then write an equal sign next to it.\n",
    "2) After the equal sign, write a pair of curly brackets. Like this: {}\n",
    "3) Next write the name of the \"variable\" that you want. Remember to write it between quotation marks\n",
    "4) Then assign its value by writing a semicolon (:) to its right, and then its value in quotation marks if it's a string or without if it's an integer\n",
    "5) Make sure the name of variables don't repeat, or else it won't work\n",
    "\n",
    "\n",
    "How to use your dictionary:\n",
    "\n",
    "\n",
    "1) Write the name of your dictionary\n",
    "2) Next, write straight brackets on the right. This is a straight bracket []\n",
    "3) Then write the variable in the straight brackets while being between quotation marks.\n",
    "\n",
    "\n",
    "Next try to create your own dictionary, with a minimum of 3 variables. Using your dictionary, print the name of a city.\n"
   ]
  },
  {
   "cell_type": "code",
   "execution_count": null,
   "metadata": {},
   "outputs": [],
   "source": []
  },
  {
   "cell_type": "markdown",
   "metadata": {},
   "source": [
    "You are also able to modify the value of a variable, without messing with the dictionary.\n",
    "\n",
    "\n",
    "For you to do this:\n",
    "1) Access your dictionary(my_dict[\"Variable\"])\n",
    "2) Write an equal sign next to it and it's updated value\n",
    "\n",
    "\n",
    "As the program below demonstrates\n"
   ]
  },
  {
   "cell_type": "code",
   "execution_count": null,
   "metadata": {},
   "outputs": [],
   "source": [
    "my_dict={\"name\":\"John\", \"age\": 30, \"city\":\"New York\"}\n",
    "my_dict[\"age\"]=55\n",
    "print(my_dict[\"age\"])"
   ]
  },
  {
   "cell_type": "markdown",
   "metadata": {},
   "source": [
    "You are also able to remove certain values in your dictionary by deleting them.\n",
    "\n",
    "\n",
    "For you to delete a value in your dictionary, write the same thing as you would to use it, but write del before it.\n",
    "\n",
    "\n",
    "As the example below shows\n"
   ]
  },
  {
   "cell_type": "code",
   "execution_count": null,
   "metadata": {},
   "outputs": [],
   "source": [
    "my_dict={\"name\":\"John\", \"age\":30, \"city\":\"New York\"}\n",
    "del my_dict [\"name\"]\n",
    "print(my_dict [\"name\"])"
   ]
  },
  {
   "cell_type": "markdown",
   "metadata": {},
   "source": [
    "Next try to delete one of your variables in your dictionary, and then print the value of the deleted one."
   ]
  },
  {
   "cell_type": "code",
   "execution_count": null,
   "metadata": {},
   "outputs": [],
   "source": []
  },
  {
   "cell_type": "markdown",
   "metadata": {},
   "source": [
    "You are also able to modify the value of a variable, without messing with the dictionary.\n",
    "\n",
    "\n",
    "For you to do this:\n",
    "1) Access your dictionary(my_dict[\"Variable\"])\n",
    "2) Write an equal sign next to it and it's updated value\n",
    "\n",
    "\n",
    "As the program below demonstrates\n"
   ]
  },
  {
   "cell_type": "code",
   "execution_count": null,
   "metadata": {},
   "outputs": [],
   "source": [
    "my_dict={\"name\":\"John\", \"age\": 30, \"city\":\"New York\"}\n",
    "my_dict[\"age\"]=55\n",
    "print(my_dict[\"age\"])"
   ]
  },
  {
   "cell_type": "markdown",
   "metadata": {},
   "source": [
    "Now to write a program, in which you write a dictionary and change 2 values of it and then print the variables you changed."
   ]
  },
  {
   "cell_type": "code",
   "execution_count": null,
   "metadata": {},
   "outputs": [],
   "source": []
  },
  {
   "cell_type": "markdown",
   "metadata": {},
   "source": [
    "---\n",
    "If that was too easy. \n",
    "\n",
    "\n",
    "## Now it's Challenge Time😈\n",
    "\n",
    "\n",
    "Write a dictionary with 15 variables, and then print all of them\n"
   ]
  },
  {
   "cell_type": "code",
   "execution_count": null,
   "metadata": {},
   "outputs": [],
   "source": []
  },
  {
   "cell_type": "markdown",
   "metadata": {},
   "source": [
    "\n",
    "\n",
    "Use len() to find the amount of the dictionary you just coded.\n",
    "\n",
    "Tip: Search what len() do.\n"
   ]
  },
  {
   "cell_type": "code",
   "execution_count": null,
   "metadata": {},
   "outputs": [],
   "source": []
  },
  {
   "cell_type": "markdown",
   "metadata": {},
   "source": [
    "Write a program in which one of the values of your dictionary increases by one, five times in a loop.\n",
    "\n",
    "Tip: Search what len() do."
   ]
  },
  {
   "cell_type": "code",
   "execution_count": null,
   "metadata": {},
   "outputs": [],
   "source": []
  },
  {
   "cell_type": "markdown",
   "metadata": {},
   "source": [
    "Write a program in which one of the values of your dictionary increases by one, five times in a loop.\n",
    "\n",
    "\n",
    "Tip: Read about Loops before beginning this challenge, and watch your indentation\n"
   ]
  },
  {
   "cell_type": "code",
   "execution_count": null,
   "metadata": {},
   "outputs": [],
   "source": []
  }
 ],
 "metadata": {
  "kernelspec": {
   "display_name": "Python 3",
   "language": "python",
   "name": "python3"
  },
  "language_info": {
   "codemirror_mode": {
    "name": "ipython",
    "version": 3
   },
   "file_extension": ".py",
   "mimetype": "text/x-python",
   "name": "python",
   "nbconvert_exporter": "python",
   "pygments_lexer": "ipython3",
   "version": "3.9.6"
  }
 },
 "nbformat": 4,
 "nbformat_minor": 2
}
